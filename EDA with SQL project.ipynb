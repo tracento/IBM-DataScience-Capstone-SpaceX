{
    "cells": [
        {
            "cell_type": "markdown",
            "metadata": {},
            "source": "<center>\n    <img src=\"https://gitlab.com/ibm/skills-network/courses/placeholder101/-/raw/master/labs/module%201/images/IDSNlogo.png\"  width=\"300\" alt=\"cognitiveclass.ai logo\"  />\n</center>\n\n<h1 align=center><font size = 5>Assignment: SQL Notebook for Peer Assignment</font></h1>\n\nEstimated time needed: **60** minutes.\n\n## Introduction\n\nUsing this Python notebook you will:\n\n1.  Understand the Spacex DataSet\n2.  Load the dataset  into the corresponding table in a Db2 database\n3.  Execute SQL queries to answer assignment questions\n"
        },
        {
            "cell_type": "markdown",
            "metadata": {},
            "source": "## Overview of the DataSet\n\nSpaceX has gained worldwide attention for a series of historic milestones.\n\nIt is the only private company ever to return a spacecraft from low-earth orbit, which it first accomplished in December 2010.\nSpaceX advertises Falcon 9 rocket launches on its website with a cost of 62 million dollars wheras other providers cost upward of 165 million dollars each, much of the savings is because Space X can reuse the first stage.\n\nTherefore if we can determine if the first stage will land, we can determine the cost of a launch.\n\nThis information can be used if an alternate company wants to bid against SpaceX for a rocket launch.\n\nThis dataset includes a record for each payload carried during a SpaceX mission into outer space.\n"
        },
        {
            "cell_type": "markdown",
            "metadata": {},
            "source": "### Download the datasets\n\nThis assignment requires you to load the spacex dataset.\n\nIn many cases the dataset to be analyzed is available as a .CSV (comma separated values) file, perhaps on the internet. Click on the link below to download and save the dataset (.CSV file):\n\n<a href=\"https://cf-courses-data.s3.us.cloud-object-storage.appdomain.cloud/IBM-DS0321EN-SkillsNetwork/labs/module_2/data/Spacex.csv?utm_medium=Exinfluencer&utm_source=Exinfluencer&utm_content=000026UJ&utm_term=10006555&utm_id=NA-SkillsNetwork-Channel-SkillsNetworkCoursesIBMDS0321ENSkillsNetwork26802033-2021-01-01\" target=\"_blank\">Spacex DataSet</a>\n"
        },
        {
            "cell_type": "markdown",
            "metadata": {},
            "source": "### Store the dataset in database table\n\n**it is highly recommended to manually load the table using the database console LOAD tool in DB2**.\n\n<img src = \"https://cf-courses-data.s3.us.cloud-object-storage.appdomain.cloud/IBM-DS0321EN-SkillsNetwork/labs/module_2/images/spacexload.png\">\n\nNow open the Db2 console, open the LOAD tool, Select / Drag the .CSV file for the  dataset, Next create a New Table, and then follow the steps on-screen instructions to load the data. Name the new table as follows:\n\n**SPACEXDATASET**\n\n**Follow these steps while using old DB2 UI which is having Open Console Screen**\n\n**Note:While loading Spacex dataset, ensure that detect datatypes is disabled. Later click on the pencil icon(edit option).**\n\n1.  Change the Date Format by manually typing DD-MM-YYYY and timestamp format as DD-MM-YYYY HH\\:MM:SS\n\n2.  Change the PAYLOAD_MASS\\_\\_KG\\_  datatype  to INTEGER.\n\n<img src = \"https://cf-courses-data.s3.us.cloud-object-storage.appdomain.cloud/IBM-DS0321EN-SkillsNetwork/labs/module_2/images/spacexload2.png\">\n"
        },
        {
            "cell_type": "markdown",
            "metadata": {},
            "source": "**Changes to be considered when having DB2 instance with the new UI having Go to UI screen**\n\n*   Refer to this insruction in this <a href=\"https://cf-courses-data.s3.us.cloud-object-storage.appdomain.cloud/IBMDeveloperSkillsNetwork-DB0201EN-SkillsNetwork/labs/Labs_Coursera_V5/labs/Lab%20-%20Sign%20up%20for%20IBM%20Cloud%20-%20Create%20Db2%20service%20instance%20-%20Get%20started%20with%20the%20Db2%20console/instructional-labs.md.html?utm_medium=Exinfluencer&utm_source=Exinfluencer&utm_content=000026UJ&utm_term=10006555&utm_id=NA-SkillsNetwork-Channel-SkillsNetworkCoursesIBMDS0321ENSkillsNetwork26802033-2021-01-01\">link</a> for viewing  the new  Go to UI screen.\n\n*   Later click on **Data link(below SQL)**  in the Go to UI screen  and click on **Load Data** tab.\n\n*   Later browse for the downloaded spacex file.\n\n<img src=\"https://cf-courses-data.s3.us.cloud-object-storage.appdomain.cloud/IBM-DS0321EN-SkillsNetwork/labs/module_2/images/browsefile.png\" width=\"800\"/>\n\n*   Once done select the schema andload the file.\n\n <img src=\"https://cf-courses-data.s3.us.cloud-object-storage.appdomain.cloud/IBM-DS0321EN-SkillsNetwork/labs/module_2/images/spacexload3.png\" width=\"800\"/>\n"
        },
        {
            "cell_type": "code",
            "execution_count": 8,
            "metadata": {},
            "outputs": [
                {
                    "name": "stdout",
                    "output_type": "stream",
                    "text": "Collecting sqlalchemy==1.3.9\n  Downloading SQLAlchemy-1.3.9.tar.gz (6.0 MB)\n\u001b[K     |\u2588\u2588\u2588\u2588\u2588\u2588\u2588\u2588\u2588\u2588\u2588\u2588\u2588\u2588\u2588\u2588\u2588\u2588\u2588\u2588\u2588\u2588\u2588\u2588\u2588\u2588\u2588\u2588\u2588\u2588\u2588\u2588| 6.0 MB 17.8 MB/s eta 0:00:01\n\u001b[?25hBuilding wheels for collected packages: sqlalchemy\n  Building wheel for sqlalchemy (setup.py) ... \u001b[?25ldone\n\u001b[?25h  Created wheel for sqlalchemy: filename=SQLAlchemy-1.3.9-cp38-cp38-linux_x86_64.whl size=1209499 sha256=3287de6534298f190aa22d77488ea046cdebda0e2d1d1267d9995062db38227b\n  Stored in directory: /tmp/wsuser/.cache/pip/wheels/cb/43/46/fa638f2422554332b7865d600275b24568bf60e76104a94bb4\nSuccessfully built sqlalchemy\nInstalling collected packages: sqlalchemy\n  Attempting uninstall: sqlalchemy\n    Found existing installation: SQLAlchemy 1.3.23\n    Uninstalling SQLAlchemy-1.3.23:\n      Successfully uninstalled SQLAlchemy-1.3.23\nSuccessfully installed sqlalchemy-1.3.9\nRequirement already satisfied: ibm_db_sa in /opt/conda/envs/Python-3.8-main/lib/python3.8/site-packages (0.3.6)\nRequirement already satisfied: ibm-db>=2.0.0 in /opt/conda/envs/Python-3.8-main/lib/python3.8/site-packages (from ibm_db_sa) (3.0.4)\nRequirement already satisfied: sqlalchemy>=0.7.3 in /opt/conda/envs/Python-3.8-main/lib/python3.8/site-packages (from ibm_db_sa) (1.3.9)\n"
                }
            ],
            "source": "!pip install sqlalchemy==1.3.9\n!pip install ibm_db_sa"
        },
        {
            "cell_type": "code",
            "execution_count": 1,
            "metadata": {},
            "outputs": [
                {
                    "name": "stdout",
                    "output_type": "stream",
                    "text": "Requirement already satisfied: sqlalchemy in /opt/conda/envs/Python-3.8-main/lib/python3.8/site-packages (1.3.23)\nRequirement already satisfied: ibm_db_sa in /opt/conda/envs/Python-3.8-main/lib/python3.8/site-packages (0.3.6)\nRequirement already satisfied: sqlalchemy>=0.7.3 in /opt/conda/envs/Python-3.8-main/lib/python3.8/site-packages (from ibm_db_sa) (1.3.23)\nRequirement already satisfied: ibm-db>=2.0.0 in /opt/conda/envs/Python-3.8-main/lib/python3.8/site-packages (from ibm_db_sa) (3.0.4)\nCollecting ipython-sql\n  Downloading ipython_sql-0.4.0-py3-none-any.whl (19 kB)\nCollecting prettytable<1\n  Downloading prettytable-0.7.2.zip (28 kB)\nRequirement already satisfied: sqlalchemy>=0.6.7 in /opt/conda/envs/Python-3.8-main/lib/python3.8/site-packages (from ipython-sql) (1.3.23)\nRequirement already satisfied: six in /opt/conda/envs/Python-3.8-main/lib/python3.8/site-packages (from ipython-sql) (1.15.0)\nCollecting sqlparse\n  Downloading sqlparse-0.4.1-py3-none-any.whl (42 kB)\n\u001b[K     |\u2588\u2588\u2588\u2588\u2588\u2588\u2588\u2588\u2588\u2588\u2588\u2588\u2588\u2588\u2588\u2588\u2588\u2588\u2588\u2588\u2588\u2588\u2588\u2588\u2588\u2588\u2588\u2588\u2588\u2588\u2588\u2588| 42 kB 2.3 MB/s  eta 0:00:01\n\u001b[?25hRequirement already satisfied: ipython>=1.0 in /opt/conda/envs/Python-3.8-main/lib/python3.8/site-packages (from ipython-sql) (7.22.0)\nRequirement already satisfied: ipython-genutils>=0.1.0 in /opt/conda/envs/Python-3.8-main/lib/python3.8/site-packages (from ipython-sql) (0.2.0)\nRequirement already satisfied: prompt-toolkit!=3.0.0,!=3.0.1,<3.1.0,>=2.0.0 in /opt/conda/envs/Python-3.8-main/lib/python3.8/site-packages (from ipython>=1.0->ipython-sql) (3.0.17)\nRequirement already satisfied: traitlets>=4.2 in /opt/conda/envs/Python-3.8-main/lib/python3.8/site-packages (from ipython>=1.0->ipython-sql) (5.0.5)\nRequirement already satisfied: pygments in /opt/conda/envs/Python-3.8-main/lib/python3.8/site-packages (from ipython>=1.0->ipython-sql) (2.9.0)\nRequirement already satisfied: decorator in /opt/conda/envs/Python-3.8-main/lib/python3.8/site-packages (from ipython>=1.0->ipython-sql) (5.0.9)\nRequirement already satisfied: backcall in /opt/conda/envs/Python-3.8-main/lib/python3.8/site-packages (from ipython>=1.0->ipython-sql) (0.2.0)\nRequirement already satisfied: pexpect>4.3 in /opt/conda/envs/Python-3.8-main/lib/python3.8/site-packages (from ipython>=1.0->ipython-sql) (4.8.0)\nRequirement already satisfied: pickleshare in /opt/conda/envs/Python-3.8-main/lib/python3.8/site-packages (from ipython>=1.0->ipython-sql) (0.7.5)\nRequirement already satisfied: jedi>=0.16 in /opt/conda/envs/Python-3.8-main/lib/python3.8/site-packages (from ipython>=1.0->ipython-sql) (0.17.2)\nRequirement already satisfied: setuptools>=18.5 in /opt/conda/envs/Python-3.8-main/lib/python3.8/site-packages (from ipython>=1.0->ipython-sql) (52.0.0.post20210125)\nRequirement already satisfied: parso<0.8.0,>=0.7.0 in /opt/conda/envs/Python-3.8-main/lib/python3.8/site-packages (from jedi>=0.16->ipython>=1.0->ipython-sql) (0.7.0)\nRequirement already satisfied: ptyprocess>=0.5 in /opt/conda/envs/Python-3.8-main/lib/python3.8/site-packages (from pexpect>4.3->ipython>=1.0->ipython-sql) (0.7.0)\nRequirement already satisfied: wcwidth in /opt/conda/envs/Python-3.8-main/lib/python3.8/site-packages (from prompt-toolkit!=3.0.0,!=3.0.1,<3.1.0,>=2.0.0->ipython>=1.0->ipython-sql) (0.2.5)\nBuilding wheels for collected packages: prettytable\n  Building wheel for prettytable (setup.py) ... \u001b[?25ldone\n\u001b[?25h  Created wheel for prettytable: filename=prettytable-0.7.2-py3-none-any.whl size=13700 sha256=b2d51ddfbb1205cd34d41ea59eda2bba4f329a5f9b2636f8b85fc727030fde17\n  Stored in directory: /tmp/wsuser/.cache/pip/wheels/48/6d/77/9517cb933af254f51a446f1a5ec9c2be3e45f17384940bce68\nSuccessfully built prettytable\nInstalling collected packages: sqlparse, prettytable, ipython-sql\nSuccessfully installed ipython-sql-0.4.0 prettytable-0.7.2 sqlparse-0.4.1\n"
                }
            ],
            "source": "!pip install sqlalchemy\n\n!pip install ibm_db_sa\n\n!pip install ipython-sql"
        },
        {
            "cell_type": "markdown",
            "metadata": {},
            "source": "### Connect to the database\n\nLet us first load the SQL extension and establish a connection with the database\n"
        },
        {
            "cell_type": "code",
            "execution_count": 9,
            "metadata": {},
            "outputs": [
                {
                    "ename": "ModuleNotFoundError",
                    "evalue": "No module named 'sql'",
                    "output_type": "error",
                    "traceback": [
                        "\u001b[0;31m---------------------------------------------------------------------------\u001b[0m",
                        "\u001b[0;31mModuleNotFoundError\u001b[0m                       Traceback (most recent call last)",
                        "\u001b[0;32m<ipython-input-9-7600c8b786e3>\u001b[0m in \u001b[0;36m<module>\u001b[0;34m\u001b[0m\n\u001b[0;32m----> 1\u001b[0;31m \u001b[0mget_ipython\u001b[0m\u001b[0;34m(\u001b[0m\u001b[0;34m)\u001b[0m\u001b[0;34m.\u001b[0m\u001b[0mrun_line_magic\u001b[0m\u001b[0;34m(\u001b[0m\u001b[0;34m'load_ext'\u001b[0m\u001b[0;34m,\u001b[0m \u001b[0;34m'sql'\u001b[0m\u001b[0;34m)\u001b[0m\u001b[0;34m\u001b[0m\u001b[0;34m\u001b[0m\u001b[0m\n\u001b[0m",
                        "\u001b[0;32m/opt/conda/envs/Python-3.8-main/lib/python3.8/site-packages/IPython/core/interactiveshell.py\u001b[0m in \u001b[0;36mrun_line_magic\u001b[0;34m(self, magic_name, line, _stack_depth)\u001b[0m\n\u001b[1;32m   2342\u001b[0m                 \u001b[0mkwargs\u001b[0m\u001b[0;34m[\u001b[0m\u001b[0;34m'local_ns'\u001b[0m\u001b[0;34m]\u001b[0m \u001b[0;34m=\u001b[0m \u001b[0mself\u001b[0m\u001b[0;34m.\u001b[0m\u001b[0mget_local_scope\u001b[0m\u001b[0;34m(\u001b[0m\u001b[0mstack_depth\u001b[0m\u001b[0;34m)\u001b[0m\u001b[0;34m\u001b[0m\u001b[0;34m\u001b[0m\u001b[0m\n\u001b[1;32m   2343\u001b[0m             \u001b[0;32mwith\u001b[0m \u001b[0mself\u001b[0m\u001b[0;34m.\u001b[0m\u001b[0mbuiltin_trap\u001b[0m\u001b[0;34m:\u001b[0m\u001b[0;34m\u001b[0m\u001b[0;34m\u001b[0m\u001b[0m\n\u001b[0;32m-> 2344\u001b[0;31m                 \u001b[0mresult\u001b[0m \u001b[0;34m=\u001b[0m \u001b[0mfn\u001b[0m\u001b[0;34m(\u001b[0m\u001b[0;34m*\u001b[0m\u001b[0margs\u001b[0m\u001b[0;34m,\u001b[0m \u001b[0;34m**\u001b[0m\u001b[0mkwargs\u001b[0m\u001b[0;34m)\u001b[0m\u001b[0;34m\u001b[0m\u001b[0;34m\u001b[0m\u001b[0m\n\u001b[0m\u001b[1;32m   2345\u001b[0m             \u001b[0;32mreturn\u001b[0m \u001b[0mresult\u001b[0m\u001b[0;34m\u001b[0m\u001b[0;34m\u001b[0m\u001b[0m\n\u001b[1;32m   2346\u001b[0m \u001b[0;34m\u001b[0m\u001b[0m\n",
                        "\u001b[0;32m/opt/conda/envs/Python-3.8-main/lib/python3.8/site-packages/decorator.py\u001b[0m in \u001b[0;36mfun\u001b[0;34m(*args, **kw)\u001b[0m\n\u001b[1;32m    230\u001b[0m             \u001b[0;32mif\u001b[0m \u001b[0;32mnot\u001b[0m \u001b[0mkwsyntax\u001b[0m\u001b[0;34m:\u001b[0m\u001b[0;34m\u001b[0m\u001b[0;34m\u001b[0m\u001b[0m\n\u001b[1;32m    231\u001b[0m                 \u001b[0margs\u001b[0m\u001b[0;34m,\u001b[0m \u001b[0mkw\u001b[0m \u001b[0;34m=\u001b[0m \u001b[0mfix\u001b[0m\u001b[0;34m(\u001b[0m\u001b[0margs\u001b[0m\u001b[0;34m,\u001b[0m \u001b[0mkw\u001b[0m\u001b[0;34m,\u001b[0m \u001b[0msig\u001b[0m\u001b[0;34m)\u001b[0m\u001b[0;34m\u001b[0m\u001b[0;34m\u001b[0m\u001b[0m\n\u001b[0;32m--> 232\u001b[0;31m             \u001b[0;32mreturn\u001b[0m \u001b[0mcaller\u001b[0m\u001b[0;34m(\u001b[0m\u001b[0mfunc\u001b[0m\u001b[0;34m,\u001b[0m \u001b[0;34m*\u001b[0m\u001b[0;34m(\u001b[0m\u001b[0mextras\u001b[0m \u001b[0;34m+\u001b[0m \u001b[0margs\u001b[0m\u001b[0;34m)\u001b[0m\u001b[0;34m,\u001b[0m \u001b[0;34m**\u001b[0m\u001b[0mkw\u001b[0m\u001b[0;34m)\u001b[0m\u001b[0;34m\u001b[0m\u001b[0;34m\u001b[0m\u001b[0m\n\u001b[0m\u001b[1;32m    233\u001b[0m     \u001b[0mfun\u001b[0m\u001b[0;34m.\u001b[0m\u001b[0m__name__\u001b[0m \u001b[0;34m=\u001b[0m \u001b[0mfunc\u001b[0m\u001b[0;34m.\u001b[0m\u001b[0m__name__\u001b[0m\u001b[0;34m\u001b[0m\u001b[0;34m\u001b[0m\u001b[0m\n\u001b[1;32m    234\u001b[0m     \u001b[0mfun\u001b[0m\u001b[0;34m.\u001b[0m\u001b[0m__doc__\u001b[0m \u001b[0;34m=\u001b[0m \u001b[0mfunc\u001b[0m\u001b[0;34m.\u001b[0m\u001b[0m__doc__\u001b[0m\u001b[0;34m\u001b[0m\u001b[0;34m\u001b[0m\u001b[0m\n",
                        "\u001b[0;32m/opt/conda/envs/Python-3.8-main/lib/python3.8/site-packages/IPython/core/magic.py\u001b[0m in \u001b[0;36m<lambda>\u001b[0;34m(f, *a, **k)\u001b[0m\n\u001b[1;32m    185\u001b[0m     \u001b[0;31m# but it's overkill for just that one bit of state.\u001b[0m\u001b[0;34m\u001b[0m\u001b[0;34m\u001b[0m\u001b[0;34m\u001b[0m\u001b[0m\n\u001b[1;32m    186\u001b[0m     \u001b[0;32mdef\u001b[0m \u001b[0mmagic_deco\u001b[0m\u001b[0;34m(\u001b[0m\u001b[0marg\u001b[0m\u001b[0;34m)\u001b[0m\u001b[0;34m:\u001b[0m\u001b[0;34m\u001b[0m\u001b[0;34m\u001b[0m\u001b[0m\n\u001b[0;32m--> 187\u001b[0;31m         \u001b[0mcall\u001b[0m \u001b[0;34m=\u001b[0m \u001b[0;32mlambda\u001b[0m \u001b[0mf\u001b[0m\u001b[0;34m,\u001b[0m \u001b[0;34m*\u001b[0m\u001b[0ma\u001b[0m\u001b[0;34m,\u001b[0m \u001b[0;34m**\u001b[0m\u001b[0mk\u001b[0m\u001b[0;34m:\u001b[0m \u001b[0mf\u001b[0m\u001b[0;34m(\u001b[0m\u001b[0;34m*\u001b[0m\u001b[0ma\u001b[0m\u001b[0;34m,\u001b[0m \u001b[0;34m**\u001b[0m\u001b[0mk\u001b[0m\u001b[0;34m)\u001b[0m\u001b[0;34m\u001b[0m\u001b[0;34m\u001b[0m\u001b[0m\n\u001b[0m\u001b[1;32m    188\u001b[0m \u001b[0;34m\u001b[0m\u001b[0m\n\u001b[1;32m    189\u001b[0m         \u001b[0;32mif\u001b[0m \u001b[0mcallable\u001b[0m\u001b[0;34m(\u001b[0m\u001b[0marg\u001b[0m\u001b[0;34m)\u001b[0m\u001b[0;34m:\u001b[0m\u001b[0;34m\u001b[0m\u001b[0;34m\u001b[0m\u001b[0m\n",
                        "\u001b[0;32m/opt/conda/envs/Python-3.8-main/lib/python3.8/site-packages/IPython/core/magics/extension.py\u001b[0m in \u001b[0;36mload_ext\u001b[0;34m(self, module_str)\u001b[0m\n\u001b[1;32m     31\u001b[0m         \u001b[0;32mif\u001b[0m \u001b[0;32mnot\u001b[0m \u001b[0mmodule_str\u001b[0m\u001b[0;34m:\u001b[0m\u001b[0;34m\u001b[0m\u001b[0;34m\u001b[0m\u001b[0m\n\u001b[1;32m     32\u001b[0m             \u001b[0;32mraise\u001b[0m \u001b[0mUsageError\u001b[0m\u001b[0;34m(\u001b[0m\u001b[0;34m'Missing module name.'\u001b[0m\u001b[0;34m)\u001b[0m\u001b[0;34m\u001b[0m\u001b[0;34m\u001b[0m\u001b[0m\n\u001b[0;32m---> 33\u001b[0;31m         \u001b[0mres\u001b[0m \u001b[0;34m=\u001b[0m \u001b[0mself\u001b[0m\u001b[0;34m.\u001b[0m\u001b[0mshell\u001b[0m\u001b[0;34m.\u001b[0m\u001b[0mextension_manager\u001b[0m\u001b[0;34m.\u001b[0m\u001b[0mload_extension\u001b[0m\u001b[0;34m(\u001b[0m\u001b[0mmodule_str\u001b[0m\u001b[0;34m)\u001b[0m\u001b[0;34m\u001b[0m\u001b[0;34m\u001b[0m\u001b[0m\n\u001b[0m\u001b[1;32m     34\u001b[0m \u001b[0;34m\u001b[0m\u001b[0m\n\u001b[1;32m     35\u001b[0m         \u001b[0;32mif\u001b[0m \u001b[0mres\u001b[0m \u001b[0;34m==\u001b[0m \u001b[0;34m'already loaded'\u001b[0m\u001b[0;34m:\u001b[0m\u001b[0;34m\u001b[0m\u001b[0;34m\u001b[0m\u001b[0m\n",
                        "\u001b[0;32m/opt/conda/envs/Python-3.8-main/lib/python3.8/site-packages/IPython/core/extensions.py\u001b[0m in \u001b[0;36mload_extension\u001b[0;34m(self, module_str)\u001b[0m\n\u001b[1;32m     78\u001b[0m             \u001b[0;32mif\u001b[0m \u001b[0mmodule_str\u001b[0m \u001b[0;32mnot\u001b[0m \u001b[0;32min\u001b[0m \u001b[0msys\u001b[0m\u001b[0;34m.\u001b[0m\u001b[0mmodules\u001b[0m\u001b[0;34m:\u001b[0m\u001b[0;34m\u001b[0m\u001b[0;34m\u001b[0m\u001b[0m\n\u001b[1;32m     79\u001b[0m                 \u001b[0;32mwith\u001b[0m \u001b[0mprepended_to_syspath\u001b[0m\u001b[0;34m(\u001b[0m\u001b[0mself\u001b[0m\u001b[0;34m.\u001b[0m\u001b[0mipython_extension_dir\u001b[0m\u001b[0;34m)\u001b[0m\u001b[0;34m:\u001b[0m\u001b[0;34m\u001b[0m\u001b[0;34m\u001b[0m\u001b[0m\n\u001b[0;32m---> 80\u001b[0;31m                     \u001b[0mmod\u001b[0m \u001b[0;34m=\u001b[0m \u001b[0mimport_module\u001b[0m\u001b[0;34m(\u001b[0m\u001b[0mmodule_str\u001b[0m\u001b[0;34m)\u001b[0m\u001b[0;34m\u001b[0m\u001b[0;34m\u001b[0m\u001b[0m\n\u001b[0m\u001b[1;32m     81\u001b[0m                     \u001b[0;32mif\u001b[0m \u001b[0mmod\u001b[0m\u001b[0;34m.\u001b[0m\u001b[0m__file__\u001b[0m\u001b[0;34m.\u001b[0m\u001b[0mstartswith\u001b[0m\u001b[0;34m(\u001b[0m\u001b[0mself\u001b[0m\u001b[0;34m.\u001b[0m\u001b[0mipython_extension_dir\u001b[0m\u001b[0;34m)\u001b[0m\u001b[0;34m:\u001b[0m\u001b[0;34m\u001b[0m\u001b[0;34m\u001b[0m\u001b[0m\n\u001b[1;32m     82\u001b[0m                         print((\"Loading extensions from {dir} is deprecated. \"\n",
                        "\u001b[0;32m/opt/conda/envs/Python-3.8-main/lib/python3.8/importlib/__init__.py\u001b[0m in \u001b[0;36mimport_module\u001b[0;34m(name, package)\u001b[0m\n\u001b[1;32m    125\u001b[0m                 \u001b[0;32mbreak\u001b[0m\u001b[0;34m\u001b[0m\u001b[0;34m\u001b[0m\u001b[0m\n\u001b[1;32m    126\u001b[0m             \u001b[0mlevel\u001b[0m \u001b[0;34m+=\u001b[0m \u001b[0;36m1\u001b[0m\u001b[0;34m\u001b[0m\u001b[0;34m\u001b[0m\u001b[0m\n\u001b[0;32m--> 127\u001b[0;31m     \u001b[0;32mreturn\u001b[0m \u001b[0m_bootstrap\u001b[0m\u001b[0;34m.\u001b[0m\u001b[0m_gcd_import\u001b[0m\u001b[0;34m(\u001b[0m\u001b[0mname\u001b[0m\u001b[0;34m[\u001b[0m\u001b[0mlevel\u001b[0m\u001b[0;34m:\u001b[0m\u001b[0;34m]\u001b[0m\u001b[0;34m,\u001b[0m \u001b[0mpackage\u001b[0m\u001b[0;34m,\u001b[0m \u001b[0mlevel\u001b[0m\u001b[0;34m)\u001b[0m\u001b[0;34m\u001b[0m\u001b[0;34m\u001b[0m\u001b[0m\n\u001b[0m\u001b[1;32m    128\u001b[0m \u001b[0;34m\u001b[0m\u001b[0m\n\u001b[1;32m    129\u001b[0m \u001b[0;34m\u001b[0m\u001b[0m\n",
                        "\u001b[0;32m/opt/conda/envs/Python-3.8-main/lib/python3.8/importlib/_bootstrap.py\u001b[0m in \u001b[0;36m_gcd_import\u001b[0;34m(name, package, level)\u001b[0m\n",
                        "\u001b[0;32m/opt/conda/envs/Python-3.8-main/lib/python3.8/importlib/_bootstrap.py\u001b[0m in \u001b[0;36m_find_and_load\u001b[0;34m(name, import_)\u001b[0m\n",
                        "\u001b[0;32m/opt/conda/envs/Python-3.8-main/lib/python3.8/importlib/_bootstrap.py\u001b[0m in \u001b[0;36m_find_and_load_unlocked\u001b[0;34m(name, import_)\u001b[0m\n",
                        "\u001b[0;31mModuleNotFoundError\u001b[0m: No module named 'sql'"
                    ]
                }
            ],
            "source": "%load_ext sql"
        },
        {
            "cell_type": "markdown",
            "metadata": {},
            "source": "**DB2 magic in case of old UI service credentials.**\n\nIn the next cell enter your db2 connection string. Recall you created Service Credentials for your Db2 instance before. From the **uri** field of your Db2 service credentials copy everything after db2:// (except the double quote at the end) and paste it in the cell below after ibm_db_sa://\n\n<img src =\"https://cf-courses-data.s3.us.cloud-object-storage.appdomain.cloud/IBMDeveloperSkillsNetwork-DB0201EN-SkillsNetwork/labs/FinalModule_edX/images/URI.jpg\">\n\nin the following format\n\n**%sql ibm_db_sa://my-username:my-password@my-hostname:my-port/my-db-name**\n\n**DB2 magic in case of new UI service credentials.**\n\n<img src =\"https://cf-courses-data.s3.us.cloud-object-storage.appdomain.cloud/IBM-DS0321EN-SkillsNetwork/labs/module_2/images/servicecredentials.png\" width=600>  \n\n*   Use the following format.\n\n*   Add security=SSL at the end\n\n**%sql ibm_db_sa://my-username:my-password@my-hostname:my-port/my-db-name?security=SSL**\n"
        },
        {
            "cell_type": "code",
            "execution_count": null,
            "metadata": {},
            "outputs": [],
            "source": ""
        },
        {
            "cell_type": "code",
            "execution_count": 5,
            "metadata": {},
            "outputs": [
                {
                    "name": "stdout",
                    "output_type": "stream",
                    "text": " * ibm_db_sa://zxm64613:***@dashdb-txn-sbox-yp-dal09-08.services.dal.bluemix.net:50000/BLUDB\nDone.\n"
                },
                {
                    "data": {
                        "text/html": "<table>\n    <tr>\n        <th>tabschema</th>\n        <th>tabname</th>\n        <th>create_time</th>\n    </tr>\n    <tr>\n        <td>ZXM64613</td>\n        <td>CENSUS_DATA</td>\n        <td>2021-02-02 04:11:14.838673</td>\n    </tr>\n    <tr>\n        <td>ZXM64613</td>\n        <td>CHICAGO_PUBLIC_SCHOOLS</td>\n        <td>2021-02-02 04:12:25.521848</td>\n    </tr>\n    <tr>\n        <td>ZXM64613</td>\n        <td>CHICAGO_CRIME_DATA</td>\n        <td>2021-02-02 04:14:39.428831</td>\n    </tr>\n    <tr>\n        <td>ZXM64613</td>\n        <td>SPACEXTBL</td>\n        <td>2021-08-13 15:07:47.757823</td>\n    </tr>\n</table>",
                        "text/plain": "[('ZXM64613', 'CENSUS_DATA', datetime.datetime(2021, 2, 2, 4, 11, 14, 838673)),\n ('ZXM64613', 'CHICAGO_PUBLIC_SCHOOLS', datetime.datetime(2021, 2, 2, 4, 12, 25, 521848)),\n ('ZXM64613', 'CHICAGO_CRIME_DATA', datetime.datetime(2021, 2, 2, 4, 14, 39, 428831)),\n ('ZXM64613', 'SPACEXTBL', datetime.datetime(2021, 8, 13, 15, 7, 47, 757823))]"
                    },
                    "execution_count": 5,
                    "metadata": {},
                    "output_type": "execute_result"
                }
            ],
            "source": "%sql select TABSCHEMA, TABNAME, CREATE_TIME from SYSCAT.TABLES where LCASE(TABSCHEMA)='zxm64613'"
        },
        {
            "cell_type": "code",
            "execution_count": 4,
            "metadata": {},
            "outputs": [
                {
                    "name": "stdout",
                    "output_type": "stream",
                    "text": "DB2/LINUXX8664\n"
                }
            ],
            "source": "%sql ibm_db_sa://zxm64613:pfxgkqnr%5E89lcq4g@dashdb-txn-sbox-yp-dal09-08.services.dal.bluemix.net:50000/BLUDB"
        },
        {
            "cell_type": "markdown",
            "metadata": {},
            "source": "## Tasks\n\nNow write and execute SQL queries to solve the assignment tasks.\n\n### Task 1\n\n##### Display the names of the unique launch sites  in the space mission\n"
        },
        {
            "cell_type": "code",
            "execution_count": 7,
            "metadata": {},
            "outputs": [
                {
                    "name": "stdout",
                    "output_type": "stream",
                    "text": " * ibm_db_sa://zxm64613:***@dashdb-txn-sbox-yp-dal09-08.services.dal.bluemix.net:50000/BLUDB\nDone.\n"
                },
                {
                    "data": {
                        "text/html": "<table>\n    <tr>\n        <th>launch_site</th>\n    </tr>\n    <tr>\n        <td>CCAFS LC-40</td>\n    </tr>\n    <tr>\n        <td>CCAFS SLC-40</td>\n    </tr>\n    <tr>\n        <td>CCAFSSLC-40</td>\n    </tr>\n    <tr>\n        <td>KSC LC-39A</td>\n    </tr>\n    <tr>\n        <td>VAFB SLC-4E</td>\n    </tr>\n</table>",
                        "text/plain": "[('CCAFS LC-40',),\n ('CCAFS SLC-40',),\n ('CCAFSSLC-40',),\n ('KSC LC-39A',),\n ('VAFB SLC-4E',)]"
                    },
                    "execution_count": 7,
                    "metadata": {},
                    "output_type": "execute_result"
                }
            ],
            "source": "%sql select DISTINCT Launch_Site from SPACEXTBL"
        },
        {
            "cell_type": "markdown",
            "metadata": {},
            "source": "### Task 2\n\n##### Display 5 records where launch sites begin with the string 'CCA'\n"
        },
        {
            "cell_type": "code",
            "execution_count": 11,
            "metadata": {},
            "outputs": [
                {
                    "name": "stdout",
                    "output_type": "stream",
                    "text": " * ibm_db_sa://zxm64613:***@dashdb-txn-sbox-yp-dal09-08.services.dal.bluemix.net:50000/BLUDB\nDone.\n"
                },
                {
                    "data": {
                        "text/html": "<table>\n    <tr>\n        <th>DATE</th>\n        <th>time__utc_</th>\n        <th>booster_version</th>\n        <th>launch_site</th>\n        <th>payload</th>\n        <th>payload_mass__kg_</th>\n        <th>orbit</th>\n        <th>customer</th>\n        <th>mission_outcome</th>\n        <th>landing__outcome</th>\n    </tr>\n    <tr>\n        <td>2010-06-04</td>\n        <td>18:45:00</td>\n        <td>F9 v1.0  B0003</td>\n        <td>CCAFS LC-40</td>\n        <td>Dragon Spacecraft Qualification Unit</td>\n        <td>0</td>\n        <td>LEO</td>\n        <td>SpaceX</td>\n        <td>Success</td>\n        <td>Failure (parachute)</td>\n    </tr>\n    <tr>\n        <td>2010-12-08</td>\n        <td>15:43:00</td>\n        <td>F9 v1.0  B0004</td>\n        <td>CCAFS LC-40</td>\n        <td>Dragon demo flight C1, two CubeSats, barrel of Brouere cheese</td>\n        <td>0</td>\n        <td>LEO (ISS)</td>\n        <td>NASA (COTS) NRO</td>\n        <td>Success</td>\n        <td>Failure (parachute)</td>\n    </tr>\n    <tr>\n        <td>2012-05-22</td>\n        <td>07:44:00</td>\n        <td>F9 v1.0  B0005</td>\n        <td>CCAFS LC-40</td>\n        <td>Dragon demo flight C2</td>\n        <td>525</td>\n        <td>LEO (ISS)</td>\n        <td>NASA (COTS)</td>\n        <td>Success</td>\n        <td>No attempt</td>\n    </tr>\n    <tr>\n        <td>2012-10-08</td>\n        <td>00:35:00</td>\n        <td>F9 v1.0  B0006</td>\n        <td>CCAFS LC-40</td>\n        <td>SpaceX CRS-1</td>\n        <td>500</td>\n        <td>LEO (ISS)</td>\n        <td>NASA (CRS)</td>\n        <td>Success</td>\n        <td>No attempt</td>\n    </tr>\n    <tr>\n        <td>2013-03-01</td>\n        <td>15:10:00</td>\n        <td>F9 v1.0  B0007</td>\n        <td>CCAFS LC-40</td>\n        <td>SpaceX CRS-2</td>\n        <td>677</td>\n        <td>LEO (ISS)</td>\n        <td>NASA (CRS)</td>\n        <td>Success</td>\n        <td>No attempt</td>\n    </tr>\n</table>",
                        "text/plain": "[(datetime.date(2010, 6, 4), datetime.time(18, 45), 'F9 v1.0  B0003', 'CCAFS LC-40', 'Dragon Spacecraft Qualification Unit', 0, 'LEO', 'SpaceX', 'Success', 'Failure (parachute)'),\n (datetime.date(2010, 12, 8), datetime.time(15, 43), 'F9 v1.0  B0004', 'CCAFS LC-40', 'Dragon demo flight C1, two CubeSats, barrel of Brouere cheese', 0, 'LEO (ISS)', 'NASA (COTS) NRO', 'Success', 'Failure (parachute)'),\n (datetime.date(2012, 5, 22), datetime.time(7, 44), 'F9 v1.0  B0005', 'CCAFS LC-40', 'Dragon demo flight C2', 525, 'LEO (ISS)', 'NASA (COTS)', 'Success', 'No attempt'),\n (datetime.date(2012, 10, 8), datetime.time(0, 35), 'F9 v1.0  B0006', 'CCAFS LC-40', 'SpaceX CRS-1', 500, 'LEO (ISS)', 'NASA (CRS)', 'Success', 'No attempt'),\n (datetime.date(2013, 3, 1), datetime.time(15, 10), 'F9 v1.0  B0007', 'CCAFS LC-40', 'SpaceX CRS-2', 677, 'LEO (ISS)', 'NASA (CRS)', 'Success', 'No attempt')]"
                    },
                    "execution_count": 11,
                    "metadata": {},
                    "output_type": "execute_result"
                }
            ],
            "source": "%sql select * from SPACEXTBL where Launch_Site like 'CCA%' \\\nfetch first 5 rows only"
        },
        {
            "cell_type": "markdown",
            "metadata": {},
            "source": "### Task 3\n\n##### Display the total payload mass carried by boosters launched by NASA (CRS)\n"
        },
        {
            "cell_type": "code",
            "execution_count": 14,
            "metadata": {},
            "outputs": [
                {
                    "name": "stdout",
                    "output_type": "stream",
                    "text": " * ibm_db_sa://zxm64613:***@dashdb-txn-sbox-yp-dal09-08.services.dal.bluemix.net:50000/BLUDB\nDone.\n"
                },
                {
                    "data": {
                        "text/html": "<table>\n    <tr>\n        <th>totalpayloadmass</th>\n    </tr>\n    <tr>\n        <td>45596</td>\n    </tr>\n</table>",
                        "text/plain": "[(45596,)]"
                    },
                    "execution_count": 14,
                    "metadata": {},
                    "output_type": "execute_result"
                }
            ],
            "source": "%sql select SUM(payload_mass__kg_) TotalPayloadMass from SPACEXTBL where Customer = 'NASA (CRS)'"
        },
        {
            "cell_type": "markdown",
            "metadata": {},
            "source": "### Task 4\n\n##### Display average payload mass carried by booster version F9 v1.1\n"
        },
        {
            "cell_type": "code",
            "execution_count": 15,
            "metadata": {},
            "outputs": [
                {
                    "name": "stdout",
                    "output_type": "stream",
                    "text": " * ibm_db_sa://zxm64613:***@dashdb-txn-sbox-yp-dal09-08.services.dal.bluemix.net:50000/BLUDB\nDone.\n"
                },
                {
                    "data": {
                        "text/html": "<table>\n    <tr>\n        <th>averagepayloadmass</th>\n    </tr>\n    <tr>\n        <td>2928.400000</td>\n    </tr>\n</table>",
                        "text/plain": "[(Decimal('2928.400000'),)]"
                    },
                    "execution_count": 15,
                    "metadata": {},
                    "output_type": "execute_result"
                }
            ],
            "source": "%sql select AVG(payload_mass__kg_) AveragePayloadMass from SPACEXTBL where Booster_Version = 'F9 v1.1'"
        },
        {
            "cell_type": "markdown",
            "metadata": {},
            "source": "### Task 5\n\n##### List the date when the first succesful landing outcome in ground pad was acheived.\n\n*Hint:Use min function*\n"
        },
        {
            "cell_type": "code",
            "execution_count": 18,
            "metadata": {},
            "outputs": [
                {
                    "name": "stdout",
                    "output_type": "stream",
                    "text": " * ibm_db_sa://zxm64613:***@dashdb-txn-sbox-yp-dal09-08.services.dal.bluemix.net:50000/BLUDB\nDone.\n"
                },
                {
                    "data": {
                        "text/html": "<table>\n    <tr>\n        <th>successfullandingoutcome</th>\n    </tr>\n    <tr>\n        <td>2016-04-08</td>\n    </tr>\n</table>",
                        "text/plain": "[(datetime.date(2016, 4, 8),)]"
                    },
                    "execution_count": 18,
                    "metadata": {},
                    "output_type": "execute_result"
                }
            ],
            "source": "%sql select MIN(Date) SuccessfulLandingOutcome from SPACEXTBL where landing__outcome = 'Success (drone ship)'"
        },
        {
            "cell_type": "markdown",
            "metadata": {},
            "source": "### Task 6\n\n##### List the names of the boosters which have success in drone ship and have payload mass greater than 4000 but less than 6000\n"
        },
        {
            "cell_type": "code",
            "execution_count": 20,
            "metadata": {},
            "outputs": [
                {
                    "name": "stdout",
                    "output_type": "stream",
                    "text": " * ibm_db_sa://zxm64613:***@dashdb-txn-sbox-yp-dal09-08.services.dal.bluemix.net:50000/BLUDB\nDone.\n"
                },
                {
                    "data": {
                        "text/html": "<table>\n    <tr>\n        <th>booster_version</th>\n    </tr>\n    <tr>\n        <td>F9 FT B1032.1</td>\n    </tr>\n    <tr>\n        <td>F9 B4 B1040.1</td>\n    </tr>\n    <tr>\n        <td>F9 B4 B1043.1</td>\n    </tr>\n</table>",
                        "text/plain": "[('F9 FT B1032.1',), ('F9 B4 B1040.1',), ('F9 B4 B1043.1',)]"
                    },
                    "execution_count": 20,
                    "metadata": {},
                    "output_type": "execute_result"
                }
            ],
            "source": "%sql select booster_version from SPACEXTBL where landing__outcome = 'Success (ground pad)' AND payload_mass__kg_ > 4000 AND payload_mass__kg_ < 6000"
        },
        {
            "cell_type": "markdown",
            "metadata": {},
            "source": "### Task 7\n\n##### List the total number of successful and failure mission outcomes\n"
        },
        {
            "cell_type": "code",
            "execution_count": 40,
            "metadata": {},
            "outputs": [
                {
                    "name": "stdout",
                    "output_type": "stream",
                    "text": " * ibm_db_sa://zxm64613:***@dashdb-txn-sbox-yp-dal09-08.services.dal.bluemix.net:50000/BLUDB\nDone.\n"
                },
                {
                    "data": {
                        "text/html": "<table>\n    <tr>\n        <th>1</th>\n    </tr>\n    <tr>\n        <td>99</td>\n    </tr>\n</table>",
                        "text/plain": "[(Decimal('99'),)]"
                    },
                    "execution_count": 40,
                    "metadata": {},
                    "output_type": "execute_result"
                }
            ],
            "source": "%sql select count(*) from SPACEXTBL where mission_outcome = 'Success'"
        },
        {
            "cell_type": "code",
            "execution_count": 41,
            "metadata": {},
            "outputs": [
                {
                    "name": "stdout",
                    "output_type": "stream",
                    "text": " * ibm_db_sa://zxm64613:***@dashdb-txn-sbox-yp-dal09-08.services.dal.bluemix.net:50000/BLUDB\nDone.\n"
                },
                {
                    "data": {
                        "text/html": "<table>\n    <tr>\n        <th>1</th>\n    </tr>\n    <tr>\n        <td>0</td>\n    </tr>\n</table>",
                        "text/plain": "[(Decimal('0'),)]"
                    },
                    "execution_count": 41,
                    "metadata": {},
                    "output_type": "execute_result"
                }
            ],
            "source": "%sql select count(*) from SPACEXTBL where mission_outcome = 'Failure'"
        },
        {
            "cell_type": "markdown",
            "metadata": {},
            "source": "### Task 8\n\n##### List the   names of the booster_versions which have carried the maximum payload mass. Use a subquery\n"
        },
        {
            "cell_type": "code",
            "execution_count": 43,
            "metadata": {},
            "outputs": [
                {
                    "name": "stdout",
                    "output_type": "stream",
                    "text": " * ibm_db_sa://zxm64613:***@dashdb-txn-sbox-yp-dal09-08.services.dal.bluemix.net:50000/BLUDB\nDone.\n"
                },
                {
                    "data": {
                        "text/html": "<table>\n    <tr>\n        <th>booster_version</th>\n        <th>maximumpayloadmass</th>\n    </tr>\n    <tr>\n        <td>F9 B5 B1048.4</td>\n        <td>15600</td>\n    </tr>\n    <tr>\n        <td>F9 B5 B1048.5</td>\n        <td>15600</td>\n    </tr>\n    <tr>\n        <td>F9 B5 B1049.4</td>\n        <td>15600</td>\n    </tr>\n    <tr>\n        <td>F9 B5 B1049.5</td>\n        <td>15600</td>\n    </tr>\n    <tr>\n        <td>F9 B5 B1049.7</td>\n        <td>15600</td>\n    </tr>\n    <tr>\n        <td>F9 B5 B1051.3</td>\n        <td>15600</td>\n    </tr>\n    <tr>\n        <td>F9 B5 B1051.4</td>\n        <td>15600</td>\n    </tr>\n    <tr>\n        <td>F9 B5 B1051.6</td>\n        <td>15600</td>\n    </tr>\n    <tr>\n        <td>F9 B5 B1056.4</td>\n        <td>15600</td>\n    </tr>\n    <tr>\n        <td>F9 B5 B1058.3</td>\n        <td>15600</td>\n    </tr>\n    <tr>\n        <td>F9 B5 B1060.2</td>\n        <td>15600</td>\n    </tr>\n    <tr>\n        <td>F9 B5 B1060.3</td>\n        <td>15600</td>\n    </tr>\n    <tr>\n        <td>F9 B5 B1049.6</td>\n        <td>15440</td>\n    </tr>\n    <tr>\n        <td>F9 B5 B1059.3</td>\n        <td>15410</td>\n    </tr>\n    <tr>\n        <td>F9 B5 B1051.5</td>\n        <td>14932</td>\n    </tr>\n    <tr>\n        <td>F9 B5 B1049.3</td>\n        <td>13620</td>\n    </tr>\n    <tr>\n        <td>F9 B5B1058.1</td>\n        <td>12530</td>\n    </tr>\n    <tr>\n        <td>F9 B5B1061.1</td>\n        <td>12500</td>\n    </tr>\n    <tr>\n        <td>F9 B5B1051.1</td>\n        <td>12055</td>\n    </tr>\n    <tr>\n        <td>F9 B5 B1046.4</td>\n        <td>12050</td>\n    </tr>\n    <tr>\n        <td>F9 B4  B1041.2</td>\n        <td>9600</td>\n    </tr>\n    <tr>\n        <td>F9 B4 B1041.1</td>\n        <td>9600</td>\n    </tr>\n    <tr>\n        <td>F9 B5 B1049.2</td>\n        <td>9600</td>\n    </tr>\n    <tr>\n        <td>F9 B5B1048.1</td>\n        <td>9600</td>\n    </tr>\n    <tr>\n        <td>F9 FT  B1036.2</td>\n        <td>9600</td>\n    </tr>\n    <tr>\n        <td>F9 FT B1029.1</td>\n        <td>9600</td>\n    </tr>\n    <tr>\n        <td>F9 FT B1036.1</td>\n        <td>9600</td>\n    </tr>\n    <tr>\n        <td>F9 B5B1047.1</td>\n        <td>7075</td>\n    </tr>\n    <tr>\n        <td>F9 B5B1049.1</td>\n        <td>7060</td>\n    </tr>\n    <tr>\n        <td>F9 B5 B1056.3</td>\n        <td>6956</td>\n    </tr>\n    <tr>\n        <td>F9 FT B1037</td>\n        <td>6761</td>\n    </tr>\n    <tr>\n        <td>F9 B5 B1047.3</td>\n        <td>6500</td>\n    </tr>\n    <tr>\n        <td>F9 B4  B1043.2</td>\n        <td>6460</td>\n    </tr>\n    <tr>\n        <td>F9 B4 B1044</td>\n        <td>6092</td>\n    </tr>\n    <tr>\n        <td>F9 FT B1034</td>\n        <td>6070</td>\n    </tr>\n    <tr>\n        <td>F9 B5 B1046.2</td>\n        <td>5800</td>\n    </tr>\n    <tr>\n        <td>F9 FT B1030</td>\n        <td>5600</td>\n    </tr>\n    <tr>\n        <td>F9 B5 B1058.2</td>\n        <td>5500</td>\n    </tr>\n    <tr>\n        <td>F9 B4  B1040.2</td>\n        <td>5384</td>\n    </tr>\n    <tr>\n        <td>F9 B5 B1047.2</td>\n        <td>5300</td>\n    </tr>\n    <tr>\n        <td>F9 FT  B1021.2</td>\n        <td>5300</td>\n    </tr>\n    <tr>\n        <td>F9 FT B1032.1</td>\n        <td>5300</td>\n    </tr>\n    <tr>\n        <td>F9 FT B1020</td>\n        <td>5271</td>\n    </tr>\n    <tr>\n        <td>F9 FT  B1031.2</td>\n        <td>5200</td>\n    </tr>\n    <tr>\n        <td>F9 B4 B1043.1</td>\n        <td>5000</td>\n    </tr>\n    <tr>\n        <td>F9 B4 B1040.1</td>\n        <td>4990</td>\n    </tr>\n    <tr>\n        <td>F9 B5 B1048.3</td>\n        <td>4850</td>\n    </tr>\n    <tr>\n        <td>F9 v1.1 B1016</td>\n        <td>4707</td>\n    </tr>\n    <tr>\n        <td>F9 FT B1022</td>\n        <td>4696</td>\n    </tr>\n    <tr>\n        <td>F9 FT B1026</td>\n        <td>4600</td>\n    </tr>\n    <tr>\n        <td>F9 v1.1</td>\n        <td>4535</td>\n    </tr>\n    <tr>\n        <td>F9 v1.1 B1011</td>\n        <td>4428</td>\n    </tr>\n    <tr>\n        <td>F9 B5B1054</td>\n        <td>4400</td>\n    </tr>\n    <tr>\n        <td>F9 B5B1060.1</td>\n        <td>4311</td>\n    </tr>\n    <tr>\n        <td>F9 B5B1062.1</td>\n        <td>4311</td>\n    </tr>\n    <tr>\n        <td>F9 FT  B1032.2</td>\n        <td>4230</td>\n    </tr>\n    <tr>\n        <td>F9 B5 B1051.2</td>\n        <td>4200</td>\n    </tr>\n    <tr>\n        <td>F9 v1.1 B1014</td>\n        <td>4159</td>\n    </tr>\n    <tr>\n        <td>F9 B5 B1046.3</td>\n        <td>4000</td>\n    </tr>\n    <tr>\n        <td>F9 FT  B1029.2</td>\n        <td>3669</td>\n    </tr>\n    <tr>\n        <td>F9 B5  B1046.1</td>\n        <td>3600</td>\n    </tr>\n    <tr>\n        <td>F9 FT B1024</td>\n        <td>3600</td>\n    </tr>\n    <tr>\n        <td>F9 B4 B1042.1</td>\n        <td>3500</td>\n    </tr>\n    <tr>\n        <td>F9 B4 B1039.1</td>\n        <td>3310</td>\n    </tr>\n    <tr>\n        <td>F9 FT B1021.1</td>\n        <td>3136</td>\n    </tr>\n    <tr>\n        <td>F9 B5 B1059.4</td>\n        <td>3130</td>\n    </tr>\n    <tr>\n        <td>F9 FT B1023.1</td>\n        <td>3100</td>\n    </tr>\n    <tr>\n        <td>F9 B5 B1048.2</td>\n        <td>3000</td>\n    </tr>\n    <tr>\n        <td>F9 B5 B1058.4</td>\n        <td>2972</td>\n    </tr>\n    <tr>\n        <td>F9 FT B1035.1</td>\n        <td>2708</td>\n    </tr>\n    <tr>\n        <td>F9 B4 B1045.2</td>\n        <td>2697</td>\n    </tr>\n    <tr>\n        <td>F9 B4  B1039.2</td>\n        <td>2647</td>\n    </tr>\n    <tr>\n        <td>F9 B5B1059.1</td>\n        <td>2617</td>\n    </tr>\n    <tr>\n        <td>F9 B5B1050</td>\n        <td>2500</td>\n    </tr>\n    <tr>\n        <td>F9 B5B1056.1</td>\n        <td>2495</td>\n    </tr>\n    <tr>\n        <td>F9 FT B1031.1</td>\n        <td>2490</td>\n    </tr>\n    <tr>\n        <td>F9 v1.1 B1012</td>\n        <td>2395</td>\n    </tr>\n    <tr>\n        <td>F9 B5 B1056.2</td>\n        <td>2268</td>\n    </tr>\n    <tr>\n        <td>F9 FT B1025.1</td>\n        <td>2257</td>\n    </tr>\n    <tr>\n        <td>F9 v1.1 B1010</td>\n        <td>2216</td>\n    </tr>\n    <tr>\n        <td>F9 FT  B1035.2</td>\n        <td>2205</td>\n    </tr>\n    <tr>\n        <td>F9 FT  B1038.2</td>\n        <td>2150</td>\n    </tr>\n    <tr>\n        <td>F9 FT B1019</td>\n        <td>2034</td>\n    </tr>\n    <tr>\n        <td>F9 B5 B1059.2</td>\n        <td>1977</td>\n    </tr>\n    <tr>\n        <td>F9 v1.1 B1018</td>\n        <td>1952</td>\n    </tr>\n    <tr>\n        <td>F9 v1.1 B1015</td>\n        <td>1898</td>\n    </tr>\n    <tr>\n        <td>F9 B5B1063.1</td>\n        <td>1192</td>\n    </tr>\n    <tr>\n        <td>F9 v1.0  B0007</td>\n        <td>677</td>\n    </tr>\n    <tr>\n        <td>F9 v1.1 B1013</td>\n        <td>570</td>\n    </tr>\n    <tr>\n        <td>F9 v1.1 B1017</td>\n        <td>553</td>\n    </tr>\n    <tr>\n        <td>F9 v1.0  B0005</td>\n        <td>525</td>\n    </tr>\n    <tr>\n        <td>F9 v1.0  B0006</td>\n        <td>500</td>\n    </tr>\n    <tr>\n        <td>F9 v1.1  B1003</td>\n        <td>500</td>\n    </tr>\n    <tr>\n        <td>F9 FT B1038.1</td>\n        <td>475</td>\n    </tr>\n    <tr>\n        <td>F9 B4 B1045.1</td>\n        <td>362</td>\n    </tr>\n    <tr>\n        <td>F9 v1.0  B0003</td>\n        <td>0</td>\n    </tr>\n    <tr>\n        <td>F9 v1.0  B0004</td>\n        <td>0</td>\n    </tr>\n</table>",
                        "text/plain": "[('F9 B5 B1048.4', 15600),\n ('F9 B5 B1048.5', 15600),\n ('F9 B5 B1049.4', 15600),\n ('F9 B5 B1049.5', 15600),\n ('F9 B5 B1049.7', 15600),\n ('F9 B5 B1051.3', 15600),\n ('F9 B5 B1051.4', 15600),\n ('F9 B5 B1051.6', 15600),\n ('F9 B5 B1056.4', 15600),\n ('F9 B5 B1058.3', 15600),\n ('F9 B5 B1060.2', 15600),\n ('F9 B5 B1060.3', 15600),\n ('F9 B5 B1049.6', 15440),\n ('F9 B5 B1059.3', 15410),\n ('F9 B5 B1051.5', 14932),\n ('F9 B5 B1049.3', 13620),\n ('F9 B5B1058.1', 12530),\n ('F9 B5B1061.1', 12500),\n ('F9 B5B1051.1', 12055),\n ('F9 B5 B1046.4', 12050),\n ('F9 B4  B1041.2', 9600),\n ('F9 B4 B1041.1', 9600),\n ('F9 B5 B1049.2', 9600),\n ('F9 B5B1048.1', 9600),\n ('F9 FT  B1036.2', 9600),\n ('F9 FT B1029.1', 9600),\n ('F9 FT B1036.1', 9600),\n ('F9 B5B1047.1', 7075),\n ('F9 B5B1049.1', 7060),\n ('F9 B5 B1056.3', 6956),\n ('F9 FT B1037', 6761),\n ('F9 B5 B1047.3', 6500),\n ('F9 B4  B1043.2', 6460),\n ('F9 B4 B1044', 6092),\n ('F9 FT B1034', 6070),\n ('F9 B5 B1046.2', 5800),\n ('F9 FT B1030', 5600),\n ('F9 B5 B1058.2', 5500),\n ('F9 B4  B1040.2', 5384),\n ('F9 B5 B1047.2', 5300),\n ('F9 FT  B1021.2', 5300),\n ('F9 FT B1032.1', 5300),\n ('F9 FT B1020', 5271),\n ('F9 FT  B1031.2', 5200),\n ('F9 B4 B1043.1', 5000),\n ('F9 B4 B1040.1', 4990),\n ('F9 B5 B1048.3', 4850),\n ('F9 v1.1 B1016', 4707),\n ('F9 FT B1022', 4696),\n ('F9 FT B1026', 4600),\n ('F9 v1.1', 4535),\n ('F9 v1.1 B1011', 4428),\n ('F9 B5B1054', 4400),\n ('F9 B5B1060.1', 4311),\n ('F9 B5B1062.1', 4311),\n ('F9 FT  B1032.2', 4230),\n ('F9 B5 B1051.2', 4200),\n ('F9 v1.1 B1014', 4159),\n ('F9 B5 B1046.3', 4000),\n ('F9 FT  B1029.2', 3669),\n ('F9 B5  B1046.1', 3600),\n ('F9 FT B1024', 3600),\n ('F9 B4 B1042.1', 3500),\n ('F9 B4 B1039.1', 3310),\n ('F9 FT B1021.1', 3136),\n ('F9 B5 B1059.4', 3130),\n ('F9 FT B1023.1', 3100),\n ('F9 B5 B1048.2', 3000),\n ('F9 B5 B1058.4', 2972),\n ('F9 FT B1035.1', 2708),\n ('F9 B4 B1045.2', 2697),\n ('F9 B4  B1039.2', 2647),\n ('F9 B5B1059.1', 2617),\n ('F9 B5B1050', 2500),\n ('F9 B5B1056.1', 2495),\n ('F9 FT B1031.1', 2490),\n ('F9 v1.1 B1012', 2395),\n ('F9 B5 B1056.2', 2268),\n ('F9 FT B1025.1', 2257),\n ('F9 v1.1 B1010', 2216),\n ('F9 FT  B1035.2', 2205),\n ('F9 FT  B1038.2', 2150),\n ('F9 FT B1019', 2034),\n ('F9 B5 B1059.2', 1977),\n ('F9 v1.1 B1018', 1952),\n ('F9 v1.1 B1015', 1898),\n ('F9 B5B1063.1', 1192),\n ('F9 v1.0  B0007', 677),\n ('F9 v1.1 B1013', 570),\n ('F9 v1.1 B1017', 553),\n ('F9 v1.0  B0005', 525),\n ('F9 v1.0  B0006', 500),\n ('F9 v1.1  B1003', 500),\n ('F9 FT B1038.1', 475),\n ('F9 B4 B1045.1', 362),\n ('F9 v1.0  B0003', 0),\n ('F9 v1.0  B0004', 0)]"
                    },
                    "execution_count": 43,
                    "metadata": {},
                    "output_type": "execute_result"
                }
            ],
            "source": "%sql SELECT DISTINCT booster_version, MAX(payload_mass__kg_) MaximumPayloadMass FROM SPACEXTBL GROUP BY booster_version ORDER BY MaximumPayloadMass DESC"
        },
        {
            "cell_type": "markdown",
            "metadata": {},
            "source": "### Task 9\n\n##### List the records which will display the month names, failure landing_outcomes in drone ship ,booster versions, launch_site for the months in year 2015\n"
        },
        {
            "cell_type": "code",
            "execution_count": 88,
            "metadata": {},
            "outputs": [
                {
                    "name": "stdout",
                    "output_type": "stream",
                    "text": " * ibm_db_sa://zxm64613:***@dashdb-txn-sbox-yp-dal09-08.services.dal.bluemix.net:50000/BLUDB\nDone.\n"
                },
                {
                    "data": {
                        "text/html": "<table>\n    <tr>\n        <th>1</th>\n        <th>landing__outcome</th>\n        <th>booster_version</th>\n        <th>launch_site</th>\n    </tr>\n    <tr>\n        <td>January</td>\n        <td>Failure (drone ship)</td>\n        <td>F9 v1.1 B1012</td>\n        <td>CCAFS LC-40</td>\n    </tr>\n    <tr>\n        <td>April</td>\n        <td>Failure (drone ship)</td>\n        <td>F9 v1.1 B1015</td>\n        <td>CCAFS LC-40</td>\n    </tr>\n</table>",
                        "text/plain": "[('January', 'Failure (drone ship)', 'F9 v1.1 B1012', 'CCAFS LC-40'),\n ('April', 'Failure (drone ship)', 'F9 v1.1 B1015', 'CCAFS LC-40')]"
                    },
                    "execution_count": 88,
                    "metadata": {},
                    "output_type": "execute_result"
                }
            ],
            "source": "%sql SELECT MONTHNAME(DATE), landing__outcome, booster_version, launch_site from SPACEXTBL where landing__outcome = 'Failure (drone ship)' AND YEAR(DATE) = '2015'"
        },
        {
            "cell_type": "markdown",
            "metadata": {},
            "source": "### Task 10\n\n##### Rank the  count of  successful landing_outcomes between the date 2010-06-04 and 2017-03-20 in descending order.\n"
        },
        {
            "cell_type": "code",
            "execution_count": 6,
            "metadata": {
                "scrolled": true
            },
            "outputs": [
                {
                    "name": "stderr",
                    "output_type": "stream",
                    "text": "UsageError: Line magic function `%sql` not found.\n"
                }
            ],
            "source": "%sql select landing__outcome, DATE from SPACEXTBL where landing__outcome = 'Success';"
        },
        {
            "cell_type": "code",
            "execution_count": 87,
            "metadata": {},
            "outputs": [
                {
                    "name": "stdout",
                    "output_type": "stream",
                    "text": " * ibm_db_sa://zxm64613:***@dashdb-txn-sbox-yp-dal09-08.services.dal.bluemix.net:50000/BLUDB\nDone.\n"
                },
                {
                    "data": {
                        "text/html": "<table>\n    <tr>\n        <th>landing__outcome</th>\n        <th>2</th>\n    </tr>\n    <tr>\n        <td>Success</td>\n        <td>38</td>\n    </tr>\n</table>",
                        "text/plain": "[('Success', Decimal('38'))]"
                    },
                    "execution_count": 87,
                    "metadata": {},
                    "output_type": "execute_result"
                }
            ],
            "source": "%sql select landing__outcome, count(landing__outcome) from SPACEXTBL where landing__outcome = 'Success' group by landing__outcome order by count(landing__outcome) desc "
        },
        {
            "cell_type": "markdown",
            "metadata": {},
            "source": "### Reference Links\n\n*   <a href =\"https://cf-courses-data.s3.us.cloud-object-storage.appdomain.cloud/IBMDeveloperSkillsNetwork-DB0201EN-SkillsNetwork/labs/Labs_Coursera_V5/labs/Lab%20-%20String%20Patterns%20-%20Sorting%20-%20Grouping/instructional-labs.md.html?utm_medium=Exinfluencer&utm_source=Exinfluencer&utm_content=000026UJ&utm_term=10006555&utm_id=NA-SkillsNetwork-Channel-SkillsNetworkCoursesIBMDS0321ENSkillsNetwork26802033-2021-01-01&origin=www.coursera.org\">Hands-on Lab : String Patterns, Sorting and Grouping</a>\n\n*   <a  href=\"https://cf-courses-data.s3.us.cloud-object-storage.appdomain.cloud/IBMDeveloperSkillsNetwork-DB0201EN-SkillsNetwork/labs/Labs_Coursera_V5/labs/Lab%20-%20Built-in%20functions%20/Hands-on_Lab__Built-in_Functions.md.html?utm_medium=Exinfluencer&utm_source=Exinfluencer&utm_content=000026UJ&utm_term=10006555&utm_id=NA-SkillsNetwork-Channel-SkillsNetworkCoursesIBMDS0321ENSkillsNetwork26802033-2021-01-01&origin=www.coursera.org\">Hands-on Lab: Built-in functions</a>\n\n*   <a  href=\"https://cf-courses-data.s3.us.cloud-object-storage.appdomain.cloud/IBMDeveloperSkillsNetwork-DB0201EN-SkillsNetwork/labs/Labs_Coursera_V5/labs/Lab%20-%20Sub-queries%20and%20Nested%20SELECTs%20/instructional-labs.md.html?utm_medium=Exinfluencer&utm_source=Exinfluencer&utm_content=000026UJ&utm_term=10006555&utm_id=NA-SkillsNetwork-Channel-SkillsNetworkCoursesIBMDS0321ENSkillsNetwork26802033-2021-01-01&origin=www.coursera.org\">Hands-on Lab : Sub-queries and Nested SELECT Statements</a>\n\n*   <a href=\"https://cf-courses-data.s3.us.cloud-object-storage.appdomain.cloud/IBMDeveloperSkillsNetwork-DB0201EN-SkillsNetwork/labs/Module%205/DB0201EN-Week3-1-3-SQLmagic.ipynb?utm_medium=Exinfluencer&utm_source=Exinfluencer&utm_content=000026UJ&utm_term=10006555&utm_id=NA-SkillsNetwork-Channel-SkillsNetworkCoursesIBMDS0321ENSkillsNetwork26802033-2021-01-01\">Hands-on Tutorial: Accessing Databases with SQL magic</a>\n\n*   <a href= \"https://cf-courses-data.s3.us.cloud-object-storage.appdomain.cloud/IBMDeveloperSkillsNetwork-DB0201EN-SkillsNetwork/labs/Module%205/DB0201EN-Week3-1-4-Analyzing.ipynb?utm_medium=Exinfluencer&utm_source=Exinfluencer&utm_content=000026UJ&utm_term=10006555&utm_id=NA-SkillsNetwork-Channel-SkillsNetworkCoursesIBMDS0321ENSkillsNetwork26802033-2021-01-01\">Hands-on Lab: Analyzing a real World Data Set</a>\n"
        },
        {
            "cell_type": "markdown",
            "metadata": {},
            "source": "## Author(s)\n\n<h4> Lakshmi Holla </h4>\n"
        },
        {
            "cell_type": "markdown",
            "metadata": {},
            "source": "## Other Contributors\n\n<h4> Rav Ahuja </h4>\n"
        },
        {
            "cell_type": "markdown",
            "metadata": {},
            "source": "## Change log\n\n| Date | Version | Changed by | Change Description |\n|------|--------|--------|---------|\n| 2021-07-09 | 0.2 |Lakshmi Holla | Changes made in magic sql|\n| 2021-05-20 | 0.1 |Lakshmi Holla | Created Initial Version |\n"
        },
        {
            "cell_type": "markdown",
            "metadata": {},
            "source": "## <h3 align=\"center\"> \u00a9 IBM Corporation 2021. All rights reserved. <h3/>\n"
        }
    ],
    "metadata": {
        "kernelspec": {
            "display_name": "Python 3.8",
            "language": "python",
            "name": "python3"
        },
        "language_info": {
            "codemirror_mode": {
                "name": "ipython",
                "version": 3
            },
            "file_extension": ".py",
            "mimetype": "text/x-python",
            "name": "python",
            "nbconvert_exporter": "python",
            "pygments_lexer": "ipython3",
            "version": "3.8.10"
        }
    },
    "nbformat": 4,
    "nbformat_minor": 4
}